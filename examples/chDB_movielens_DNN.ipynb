{
 "cells": [
  {
   "cell_type": "code",
   "execution_count": 14,
   "metadata": {},
   "outputs": [
    {
     "name": "stdout",
     "output_type": "stream",
     "text": [
      "Note: you may need to restart the kernel to use updated packages.\n",
      "Name: tensorflow-cpu\n",
      "Version: 2.15.0.post1\n",
      "Summary: TensorFlow is an open source machine learning framework for everyone.\n",
      "Home-page: https://www.tensorflow.org/\n",
      "Author: Google Inc.\n",
      "Author-email: packages@tensorflow.org\n",
      "License: Apache 2.0\n",
      "Location: /home/Clickhouse/.venv/lib/python3.9/site-packages\n",
      "Requires: absl-py, astunparse, flatbuffers, gast, google-pasta, grpcio, h5py, keras, libclang, ml-dtypes, numpy, opt-einsum, packaging, protobuf, setuptools, six, tensorboard, tensorflow-estimator, tensorflow-io-gcs-filesystem, termcolor, typing-extensions, wrapt\n",
      "Required-by: \n",
      "---\n",
      "Name: chdb\n",
      "Version: 1.0.1\n",
      "Summary: chDB is an in-process SQL OLAP Engine powered by ClickHouse\n",
      "Home-page: https://github.com/auxten/chdb\n",
      "Author: auxten\n",
      "Author-email: auxtenwpc@gmail.com\n",
      "License: Apache-2.0\n",
      "Location: /home/Clickhouse/.venv/lib/python3.9/site-packages\n",
      "Requires: \n",
      "Required-by: \n",
      "Note: you may need to restart the kernel to use updated packages.\n"
     ]
    }
   ],
   "source": [
    "%pip install -q -i https://pypi.tuna.tsinghua.edu.cn/simple --upgrade tensorflow-cpu chdb pandas pyarrow scikit-learn numpy matplotlib\n",
    "%pip show tensorflow-cpu chdb"
   ]
  },
  {
   "cell_type": "code",
   "execution_count": 3,
   "metadata": {},
   "outputs": [
    {
     "name": "stdout",
     "output_type": "stream",
     "text": [
      "total 1129584\n",
      "-rw-r--r-- 1 root root     10460 Dec 11 08:24 README.txt\n",
      "-rw-r--r-- 1 root root 435164157 Dec 11 08:24 genome-scores.csv\n",
      "-rw-r--r-- 1 root root     18103 Dec 11 08:24 genome-tags.csv\n",
      "-rw-r--r-- 1 root root   1368578 Dec 11 08:24 links.csv\n",
      "-rw-r--r-- 1 root root   3038099 Dec 11 08:24 movies.csv\n",
      "-rw-r--r-- 1 root root 678260987 Dec 11 08:24 ratings.csv\n",
      "-rw-r--r-- 1 root root  38810332 Dec 11 08:24 tags.csv\n"
     ]
    }
   ],
   "source": [
    "import pandas as pd\n",
    "import zipfile\n",
    "import urllib.request\n",
    "import os\n",
    "import chdb\n",
    "from chdb import session\n",
    "\n",
    "# Download and extract the dataset\n",
    "if not os.path.exists(\"ml-25m/ratings.csv\"):\n",
    "    url = \"https://files.grouplens.org/datasets/movielens/ml-25m.zip\"\n",
    "    import ssl\n",
    "    ssl._create_default_https_context = ssl._create_unverified_context\n",
    "    filehandle, _ = urllib.request.urlretrieve(url)\n",
    "    zip_file_object = zipfile.ZipFile(filehandle, \"r\")\n",
    "    zip_file_object.extractall()\n",
    "\n",
    "!ls -l ml-25m"
   ]
  },
  {
   "cell_type": "code",
   "execution_count": 4,
   "metadata": {},
   "outputs": [
    {
     "name": "stdout",
     "output_type": "stream",
     "text": [
      "1,296,5,1147880044\n",
      "1,306,3.5,1147868817\n",
      "1,307,5,1147868828\n",
      "1,665,5,1147878820\n",
      "1,899,3.5,1147868510\n",
      "\n"
     ]
    }
   ],
   "source": [
    "# Peek at the data\n",
    "print(chdb.query(\"SELECT * FROM file('ml-25m/ratings.csv') LIMIT 5\"))"
   ]
  },
  {
   "cell_type": "markdown",
   "metadata": {},
   "source": [
    "## Create views for the tables of movieLens dataset"
   ]
  },
  {
   "cell_type": "code",
   "execution_count": 5,
   "metadata": {},
   "outputs": [
    {
     "name": "stdout",
     "output_type": "stream",
     "text": [
      "\"movieId\",\"title\",\"genres\"\n",
      "1,\"Toy Story (1995)\",\"Adventure|Animation|Children|Comedy|Fantasy\"\n",
      "2,\"Jumanji (1995)\",\"Adventure|Children|Fantasy\"\n",
      "3,\"Grumpier Old Men (1995)\",\"Comedy|Romance\"\n",
      "4,\"Waiting to Exhale (1995)\",\"Comedy|Drama|Romance\"\n",
      "5,\"Father of the Bride Part II (1995)\",\"Comedy\"\n",
      "\n",
      "\"userId\",\"movieId\",\"rating\",\"timestamp\"\n",
      "1,296,5,1147880044\n",
      "1,306,3.5,1147868817\n",
      "1,307,5,1147868828\n",
      "1,665,5,1147878820\n",
      "1,899,3.5,1147868510\n",
      "\n",
      "\"userId\",\"movieId\",\"tag\",\"timestamp\"\n",
      "3,260,\"classic\",1439472355\n",
      "3,260,\"sci-fi\",1439472256\n",
      "4,1732,\"dark comedy\",1573943598\n",
      "4,1732,\"great dialogue\",1573943604\n",
      "4,7569,\"so bad it's good\",1573943455\n",
      "\n"
     ]
    }
   ],
   "source": [
    "# Create tables for the tables of movieLens dataset\n",
    "chs = session.Session()\n",
    "chs.query(\"CREATE DATABASE IF NOT EXISTS movielens ENGINE = Atomic\")\n",
    "chs.query(\"USE movielens\")\n",
    "chs.query(\n",
    "    \"CREATE VIEW movies AS SELECT movieId, title, genres FROM file('ml-25m/movies.csv')\"\n",
    ")\n",
    "chs.query(\n",
    "    \"CREATE VIEW ratings AS SELECT userId, movieId, rating, timestamp FROM file('ml-25m/ratings.csv')\"\n",
    ")\n",
    "chs.query(\n",
    "    \"CREATE VIEW tags AS SELECT userId, movieId, tag, timestamp FROM file('ml-25m/tags.csv')\"\n",
    ")\n",
    "print(chs.query(\"SELECT * FROM movies LIMIT 5\", \"CSVWithNames\"))\n",
    "print(chs.query(\"SELECT * FROM ratings LIMIT 5\", \"CSVWithNames\"))\n",
    "print(chs.query(\"SELECT * FROM tags LIMIT 5\", \"CSVWithNames\"))"
   ]
  },
  {
   "cell_type": "markdown",
   "metadata": {},
   "source": [
    "## Create a view to join the movies/ratings"
   ]
  },
  {
   "cell_type": "code",
   "execution_count": 6,
   "metadata": {},
   "outputs": [
    {
     "name": "stdout",
     "output_type": "stream",
     "text": [
      "\"userId\",\"movieId\",\"title\",\"genres\",\"liked\"\n",
      "1,296,\"Pulp Fiction (1994)\",\"Comedy|Crime|Drama|Thriller\",1\n",
      "1,306,\"Three Colors: Red (Trois couleurs: Rouge) (1994)\",\"Drama\",0\n",
      "1,307,\"Three Colors: Blue (Trois couleurs: Bleu) (1993)\",\"Drama\",1\n",
      "1,665,\"Underground (1995)\",\"Comedy|Drama|War\",1\n",
      "1,899,\"Singin' in the Rain (1952)\",\"Comedy|Musical|Romance\",0\n",
      "\n",
      "Training rows: 19994500\n",
      "\n",
      "Test rows: 5005595\n",
      "\n"
     ]
    }
   ],
   "source": [
    "# Create a view to join the movies/ratings, if user rating >3.5 to a movie then 1(like) else 0(dislike)\n",
    "chs.query(\n",
    "    \"\"\"\n",
    "    CREATE OR REPLACE VIEW user_ratings AS\n",
    "        SELECT ratings.userId userId, ratings.movieId movieId, movies.title title, genres,\n",
    "            CASE WHEN rating > 3.5 THEN 1 ELSE 0 END AS liked\n",
    "        FROM ratings\n",
    "        JOIN movies USING movieId\n",
    "    \"\"\"\n",
    ")\n",
    "# Peek at the data\n",
    "print(chs.query(\"SELECT * FROM user_ratings LIMIT 5\", \"CSVWithNames\"))\n",
    "\n",
    "# Split the data into train and test with userId\n",
    "chs.query(\n",
    "    \"\"\"\n",
    "    CREATE OR REPLACE VIEW train AS\n",
    "        SELECT userId, movieId, title, genres, liked\n",
    "        FROM user_ratings\n",
    "        WHERE userId % 10 < 8;\n",
    "    CREATE OR REPLACE VIEW test AS\n",
    "        SELECT userId, movieId, title, genres, liked\n",
    "        FROM user_ratings\n",
    "        WHERE userId % 10 >= 8;\n",
    "    \"\"\"\n",
    ")\n",
    "# Count the number of rows in train and test\n",
    "print(\"Training rows:\", chs.query(\"SELECT COUNT(*) FROM train\"))\n",
    "print(\"Test rows:\", chs.query(\"SELECT COUNT(*) FROM test\"))"
   ]
  },
  {
   "cell_type": "markdown",
   "metadata": {},
   "source": [
    "## Train a DNN model to predict if a user will like a movie or not"
   ]
  },
  {
   "cell_type": "code",
   "execution_count": 7,
   "metadata": {},
   "outputs": [
    {
     "name": "stdout",
     "output_type": "stream",
     "text": [
      "X_train sample: [1 296 'Pulp Fiction (1994)' 'Comedy|Crime|Drama|Thriller']\n",
      "y_train sample: 1\n",
      "X_val sample: [8 1 'Toy Story (1995)' 'Adventure|Animation|Children|Comedy|Fantasy']\n",
      "y_val sample: 1\n",
      "X_train sample: [1 296 'Pulp Fiction (1994)' 'Comedy|Crime|Drama|Thriller' 0.997]\n",
      "X_val sample: [8 1 'Toy Story (1995)' 'Adventure|Animation|Children|Comedy|Fantasy'\n",
      " 0.9975]\n",
      "X_train sample: [  1.    296.      0.997   0.      0.      0.      0.      0.      1.\n",
      "   1.      0.      1.      0.      0.      0.      0.      0.      0.\n",
      "   0.      0.      1.      0.   ]\n",
      "X_val sample: [8.     1.     0.9975 0.     0.     1.     1.     1.     1.     0.\n",
      " 0.     0.     1.     0.     0.     0.     0.     0.     0.     0.\n",
      " 0.     0.    ]\n",
      "Epoch 1/10\n",
      "489/489 [==============================] - 6s 10ms/step - loss: 1300839.7500 - val_loss: 388.4711\n",
      "Epoch 2/10\n",
      "489/489 [==============================] - 4s 8ms/step - loss: 209.9686 - val_loss: 135.4464\n",
      "Epoch 3/10\n",
      "489/489 [==============================] - 5s 9ms/step - loss: 112.1556 - val_loss: 95.9700\n",
      "Epoch 4/10\n",
      "489/489 [==============================] - 4s 9ms/step - loss: 86.1744 - val_loss: 76.2465\n",
      "Epoch 5/10\n",
      "489/489 [==============================] - 4s 9ms/step - loss: 68.3167 - val_loss: 59.6845\n",
      "Epoch 6/10\n",
      "489/489 [==============================] - 4s 8ms/step - loss: 53.1876 - val_loss: 46.0609\n",
      "Epoch 7/10\n",
      "489/489 [==============================] - 5s 9ms/step - loss: 40.9774 - val_loss: 35.2976\n",
      "Epoch 8/10\n",
      "489/489 [==============================] - 5s 9ms/step - loss: 30.9578 - val_loss: 26.3277\n",
      "Epoch 9/10\n",
      "489/489 [==============================] - 5s 9ms/step - loss: 22.7545 - val_loss: 19.0584\n",
      "Epoch 10/10\n",
      "489/489 [==============================] - 5s 9ms/step - loss: 5232.4829 - val_loss: 52.5246\n",
      "156425/156425 [==============================] - 125s 800us/step\n",
      "RMSE: 7.247381\n"
     ]
    }
   ],
   "source": [
    "import tensorflow as tf\n",
    "from sklearn.metrics import mean_squared_error\n",
    "import numpy as np\n",
    "from sklearn.preprocessing import MultiLabelBinarizer\n",
    "\n",
    "# Load the data\n",
    "train_data = chs.query(\n",
    "    \"SELECT userId, movieId, title, genres, liked FROM train\", \"DataFrame\"\n",
    ")\n",
    "validate_data = chs.query(\n",
    "    \"SELECT userId, movieId, title, genres, liked FROM test\", \"DataFrame\"\n",
    ")\n",
    "\n",
    "# # Split the data into training and validation sets\n",
    "# X_train, X_val, y_train, y_val = train_test_split(X, y, test_size=0.2, random_state=42)\n",
    "X_train = train_data.values[:, :-1]\n",
    "y_train = train_data.values[:, -1]\n",
    "X_val = validate_data.values[:, :-1]\n",
    "y_val = validate_data.values[:, -1]\n",
    "\n",
    "print(\"X_train sample:\", X_train[0])\n",
    "print(\"y_train sample:\", y_train[0])\n",
    "print(\"X_val sample:\", X_val[0])\n",
    "print(\"y_val sample:\", y_val[0])\n",
    "\n",
    "# Split the movie title to extract the shooting year as a feature\n",
    "# eg. Toy Story (1995) -> 1995 if the title has no year, use 1900 instead\n",
    "def get_year(title):\n",
    "    try:\n",
    "        return float(int(title.split(\"(\")[-1].split(\")\")[0].split(\"-\")[0]) / 2000.0)\n",
    "    except:\n",
    "        return 0.0\n",
    "    \n",
    "title_years_train = np.array(\n",
    "    [get_year(title) for title in X_train[:, 2]]\n",
    ")\n",
    "X_train = np.concatenate((X_train, title_years_train[:, np.newaxis]), axis=1)\n",
    "print(\"X_train sample:\", X_train[0])\n",
    "\n",
    "title_years_val = np.array(\n",
    "    [get_year(title) for title in X_val[:, 2]]\n",
    ")\n",
    "X_val = np.concatenate((X_val, title_years_val[:, np.newaxis]), axis=1)\n",
    "print(\"X_val sample:\", X_val[0])\n",
    "\n",
    "# Split the genres by \"|\" to make the genre as a sparse feature by\n",
    "# one-hot encoding\n",
    "genres_sparse_train = [genre.split(\"|\") for genre in X_train[:, 3]]\n",
    "\n",
    "# Concatenate the encoded genres with the existing features\n",
    "X_train = np.concatenate((X_train, MultiLabelBinarizer().fit_transform(genres_sparse_train)), axis=1)\n",
    "\n",
    "genres_sparse_val = [genre.split(\"|\") for genre in X_val[:, 3]]\n",
    "X_val = np.concatenate((X_val, MultiLabelBinarizer().fit_transform(genres_sparse_val)), axis=1)\n",
    "\n",
    "# Drop the title and genres columns and keep the encoded genres, convert the data to float32\n",
    "# [1 296 'Pulp Fiction (1994)' 'Comedy|Crime|Drama|Thriller' 0.997 0 0 0 0 0 1 1 0 1 0 0 0 0 0 0 0 0 1 0 0]\n",
    "width = X_train.shape[1]\n",
    "X_train = X_train[:, np.r_[0:2, 4:width-1]].astype(np.float32)\n",
    "X_val = X_val[:, np.r_[0:2, 4:width-1]].astype(np.float32)\n",
    "y_train = y_train.astype(np.float32)\n",
    "y_val = y_val.astype(np.float32)\n",
    "\n",
    "print(\"X_train sample:\", X_train[0])\n",
    "print(\"X_val sample:\", X_val[0])\n",
    "# Define the model architecture\n",
    "model = tf.keras.Sequential(\n",
    "    [\n",
    "        tf.keras.layers.Dense(64, activation=\"relu\"),\n",
    "        tf.keras.layers.Dense(32, activation=\"relu\"),\n",
    "        tf.keras.layers.Dense(1),\n",
    "    ]\n",
    ")\n",
    "\n",
    "# Compile the model\n",
    "model.compile(optimizer=\"adam\", loss=\"mse\")\n",
    "\n",
    "# Train the model with log history of loss\n",
    "history = model.fit(\n",
    "    X_train,\n",
    "    y_train,\n",
    "    validation_data=(X_val, y_val),\n",
    "    epochs=10,\n",
    "    batch_size=40960,\n",
    "    verbose=1,\n",
    ")\n",
    "\n",
    "\n",
    "\n"
   ]
  },
  {
   "cell_type": "markdown",
   "metadata": {},
   "source": [
    "## Some plot of training history, and validation RMSE"
   ]
  },
  {
   "cell_type": "code",
   "execution_count": 11,
   "metadata": {},
   "outputs": [
    {
     "name": "stdout",
     "output_type": "stream",
     "text": [
      "123/123 [==============================] - 0s 3ms/step\n",
      "RMSE: 7.247381\n"
     ]
    },
    {
     "data": {
      "image/png": "[encoded data removed]",
      "text/plain": [
       "<Figure size 640x480 with 1 Axes>"
      ]
     },
     "metadata": {},
     "output_type": "display_data"
    }
   ],
   "source": [
    "# Plot the loss and rmse\n",
    "import matplotlib.pyplot as plt\n",
    "plt.plot(history.history[\"val_loss\"])\n",
    "\n",
    "# Evaluate the model\n",
    "y_pred = model.predict(X_val, batch_size=40960)\n",
    "rmse = np.sqrt(mean_squared_error(y_val, y_pred))\n",
    "print(\"RMSE:\", rmse)\n"
   ]
  }
 ],
 "metadata": {
  "kernelspec": {
   "display_name": "Python 3",
   "language": "python",
   "name": "python3"
  },
  "language_info": {
   "codemirror_mode": {
    "name": "ipython",
    "version": 3
   },
   "file_extension": ".py",
   "mimetype": "text/x-python",
   "name": "python",
   "nbconvert_exporter": "python",
   "pygments_lexer": "ipython3",
   "version": "3.9.2"
  }
 },
 "nbformat": 4,
 "nbformat_minor": 2
}
